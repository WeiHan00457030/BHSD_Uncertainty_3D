{
 "cells": [
  {
   "cell_type": "code",
   "execution_count": null,
   "metadata": {},
   "outputs": [],
   "source": [
    "pip install nibabel"
   ]
  },
  {
   "cell_type": "code",
   "execution_count": null,
   "metadata": {},
   "outputs": [],
   "source": [
    "pip install tqdm"
   ]
  },
  {
   "cell_type": "code",
   "execution_count": null,
   "metadata": {},
   "outputs": [],
   "source": [
    "pip install torchvision"
   ]
  },
  {
   "cell_type": "code",
   "execution_count": 1,
   "metadata": {},
   "outputs": [],
   "source": [
    "import preprocess2D\n",
    "\n",
    "# preprocess2D.perprocess_2D(\"data/dataset.json\",\"data/images\",\"data/2D_images\",False)\n",
    "# preprocess2D.perprocess_2D(\"data/dataset.json\",\"data/ground truths\",\"data/2D_ground_truths\",True)"
   ]
  },
  {
   "cell_type": "code",
   "execution_count": 2,
   "metadata": {},
   "outputs": [],
   "source": [
    "from torch.utils.data import DataLoader\n",
    "\n",
    "train_image_folder = 'data/2D_images/train_set'\n",
    "train_mask_folder = 'data/2D_ground_truths/train_set'\n",
    "test_image_folder = 'data/2D_images/test_set'\n",
    "test_mask_folder = 'data/2D_ground_truths/test_set'\n",
    "\n",
    "\n",
    "# 创建训练集和测试集的 Dataset\n",
    "train_dataset = preprocess2D.MyDataset(\n",
    "    train_image_folder, train_mask_folder)\n",
    "test_dataset = preprocess2D.MyDataset(\n",
    "    test_image_folder, test_mask_folder)\n",
    "\n",
    "# 创建 DataLoader\n",
    "train_loader = DataLoader(train_dataset, batch_size=4,\n",
    "                          shuffle=True, num_workers=2)\n",
    "test_loader = DataLoader(test_dataset, batch_size=4,\n",
    "                         shuffle=False, num_workers=2)"
   ]
  },
  {
   "cell_type": "code",
   "execution_count": null,
   "metadata": {},
   "outputs": [],
   "source": [
    "import models\n",
    "import torch\n",
    "import torch.nn as nn\n",
    "import torch.optim as optim\n",
    "import train\n",
    "\n",
    "# n_channels 是输入图像的通道数，n_classes 是输出的类别数\n",
    "model = models.UNet2D(n_channels=1, n_classes=6)\n",
    "lr = 0.01\n",
    "criterion = nn.CrossEntropyLoss()\n",
    "optimizer = optim.SGD(model.parameters(), lr, momentum=0.9)\n",
    "\n",
    "train.train_model(model, train_loader, test_loader, criterion, optimizer)"
   ]
  }
 ],
 "metadata": {
  "kernelspec": {
   "display_name": "base",
   "language": "python",
   "name": "python3"
  },
  "language_info": {
   "codemirror_mode": {
    "name": "ipython",
    "version": 3
   },
   "file_extension": ".py",
   "mimetype": "text/x-python",
   "name": "python",
   "nbconvert_exporter": "python",
   "pygments_lexer": "ipython3",
   "version": "3.9.6"
  }
 },
 "nbformat": 4,
 "nbformat_minor": 2
}
